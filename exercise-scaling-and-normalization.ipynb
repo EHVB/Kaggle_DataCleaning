{
 "cells": [
  {
   "cell_type": "markdown",
   "id": "838e8ccc",
   "metadata": {
    "papermill": {
     "duration": 0.00621,
     "end_time": "2022-08-12T14:01:42.044459",
     "exception": false,
     "start_time": "2022-08-12T14:01:42.038249",
     "status": "completed"
    },
    "tags": []
   },
   "source": [
    "**This notebook is an exercise in the [Data Cleaning](https://www.kaggle.com/learn/data-cleaning) course.  You can reference the tutorial at [this link](https://www.kaggle.com/alexisbcook/scaling-and-normalization).**\n",
    "\n",
    "---\n"
   ]
  },
  {
   "cell_type": "markdown",
   "id": "51c5c5d7",
   "metadata": {
    "papermill": {
     "duration": 0.004809,
     "end_time": "2022-08-12T14:01:42.054610",
     "exception": false,
     "start_time": "2022-08-12T14:01:42.049801",
     "status": "completed"
    },
    "tags": []
   },
   "source": [
    "In this exercise, you'll apply what you learned in the **Scaling and normalization** tutorial.\n",
    "\n",
    "# Setup\n",
    "\n",
    "The questions below will give you feedback on your work. Run the following cell to set up the feedback system."
   ]
  },
  {
   "cell_type": "code",
   "execution_count": 1,
   "id": "1a32ab8a",
   "metadata": {
    "execution": {
     "iopub.execute_input": "2022-08-12T14:01:42.067231Z",
     "iopub.status.busy": "2022-08-12T14:01:42.066435Z",
     "iopub.status.idle": "2022-08-12T14:01:45.658741Z",
     "shell.execute_reply": "2022-08-12T14:01:45.657447Z"
    },
    "papermill": {
     "duration": 3.601937,
     "end_time": "2022-08-12T14:01:45.661621",
     "exception": false,
     "start_time": "2022-08-12T14:01:42.059684",
     "status": "completed"
    },
    "tags": []
   },
   "outputs": [
    {
     "name": "stdout",
     "output_type": "stream",
     "text": [
      "Setup Complete\n"
     ]
    }
   ],
   "source": [
    "from learntools.core import binder\n",
    "binder.bind(globals())\n",
    "from learntools.data_cleaning.ex2 import *\n",
    "print(\"Setup Complete\")"
   ]
  },
  {
   "cell_type": "markdown",
   "id": "faaf54b4",
   "metadata": {
    "papermill": {
     "duration": 0.00505,
     "end_time": "2022-08-12T14:01:45.671991",
     "exception": false,
     "start_time": "2022-08-12T14:01:45.666941",
     "status": "completed"
    },
    "tags": []
   },
   "source": [
    "# Get our environment set up\n",
    "\n",
    "To practice scaling and normalization, we're going to use a [dataset of Kickstarter campaigns](https://www.kaggle.com/kemical/kickstarter-projects). (Kickstarter is a website where people can ask people to invest in various projects and concept products.)\n",
    "\n",
    "The next code cell loads in the libraries and dataset we'll be using. "
   ]
  },
  {
   "cell_type": "code",
   "execution_count": 2,
   "id": "3267a409",
   "metadata": {
    "execution": {
     "iopub.execute_input": "2022-08-12T14:01:45.684157Z",
     "iopub.status.busy": "2022-08-12T14:01:45.683766Z",
     "iopub.status.idle": "2022-08-12T14:01:47.103510Z",
     "shell.execute_reply": "2022-08-12T14:01:47.102479Z"
    },
    "papermill": {
     "duration": 1.429201,
     "end_time": "2022-08-12T14:01:47.106433",
     "exception": false,
     "start_time": "2022-08-12T14:01:45.677232",
     "status": "completed"
    },
    "tags": []
   },
   "outputs": [],
   "source": [
    "# modules we'll use\n",
    "import pandas as pd\n",
    "import numpy as np\n",
    "\n",
    "# for Box-Cox Transformation\n",
    "from scipy import stats\n",
    "\n",
    "# for min_max scaling\n",
    "from mlxtend.preprocessing import minmax_scaling\n",
    "\n",
    "# plotting modules\n",
    "import seaborn as sns\n",
    "import matplotlib.pyplot as plt\n",
    "\n",
    "# read in all our data\n",
    "kickstarters_2017 = pd.read_csv(\"../input/kickstarter-projects/ks-projects-201801.csv\")\n",
    "\n",
    "# set seed for reproducibility\n",
    "np.random.seed(0)"
   ]
  },
  {
   "cell_type": "markdown",
   "id": "68702e29",
   "metadata": {
    "papermill": {
     "duration": 0.006157,
     "end_time": "2022-08-12T14:01:47.119571",
     "exception": false,
     "start_time": "2022-08-12T14:01:47.113414",
     "status": "completed"
    },
    "tags": []
   },
   "source": [
    "Let's start by scaling the goals of each campaign, which is how much money they were asking for.  After scaling, all values lie between 0 and 1."
   ]
  },
  {
   "cell_type": "code",
   "execution_count": 3,
   "id": "06981990",
   "metadata": {
    "execution": {
     "iopub.execute_input": "2022-08-12T14:01:47.132294Z",
     "iopub.status.busy": "2022-08-12T14:01:47.131871Z",
     "iopub.status.idle": "2022-08-12T14:01:47.175145Z",
     "shell.execute_reply": "2022-08-12T14:01:47.173028Z"
    },
    "papermill": {
     "duration": 0.05241,
     "end_time": "2022-08-12T14:01:47.177669",
     "exception": false,
     "start_time": "2022-08-12T14:01:47.125259",
     "status": "completed"
    },
    "tags": []
   },
   "outputs": [
    {
     "name": "stdout",
     "output_type": "stream",
     "text": [
      "Original data\n",
      "Preview:\n",
      "    usd_goal_real\n",
      "0        1533.95\n",
      "1       30000.00\n",
      "2       45000.00\n",
      "3        5000.00\n",
      "4       19500.00\n",
      "Minimum value: 0.01 \n",
      "Maximum value: 166361390.71\n",
      "______________________________\n",
      "\n",
      "Scaled data\n",
      "Preview:\n",
      "    usd_goal_real\n",
      "0       0.000009\n",
      "1       0.000180\n",
      "2       0.000270\n",
      "3       0.000030\n",
      "4       0.000117\n",
      "Minimum value: 0.0 \n",
      "Maximum value: 1.0\n"
     ]
    }
   ],
   "source": [
    "# select the usd_goal_real column\n",
    "original_data = pd.DataFrame(kickstarters_2017.usd_goal_real)\n",
    "\n",
    "# scale the goals from 0 to 1\n",
    "scaled_data = minmax_scaling(original_data, columns=['usd_goal_real'])\n",
    "\n",
    "print('Original data\\nPreview:\\n', original_data.head())\n",
    "print('Minimum value:', float(original_data.min()),\n",
    "      '\\nMaximum value:', float(original_data.max()))\n",
    "print('_'*30)\n",
    "\n",
    "print('\\nScaled data\\nPreview:\\n', scaled_data.head())\n",
    "print('Minimum value:', float(scaled_data.min()),\n",
    "      '\\nMaximum value:', float(scaled_data.max()))"
   ]
  },
  {
   "cell_type": "markdown",
   "id": "5dbc8965",
   "metadata": {
    "papermill": {
     "duration": 0.005129,
     "end_time": "2022-08-12T14:01:47.188163",
     "exception": false,
     "start_time": "2022-08-12T14:01:47.183034",
     "status": "completed"
    },
    "tags": []
   },
   "source": [
    "# 1) Practice scaling\n",
    "\n",
    "We just scaled the \"usd_goal_real\" column. What about the \"goal\" column?\n",
    "\n",
    "Begin by running the code cell below to create a DataFrame `original_goal_data` containing the \"goal\" column."
   ]
  },
  {
   "cell_type": "code",
   "execution_count": 4,
   "id": "da8aab24",
   "metadata": {
    "execution": {
     "iopub.execute_input": "2022-08-12T14:01:47.201498Z",
     "iopub.status.busy": "2022-08-12T14:01:47.201060Z",
     "iopub.status.idle": "2022-08-12T14:01:47.207513Z",
     "shell.execute_reply": "2022-08-12T14:01:47.206350Z"
    },
    "papermill": {
     "duration": 0.016145,
     "end_time": "2022-08-12T14:01:47.209943",
     "exception": false,
     "start_time": "2022-08-12T14:01:47.193798",
     "status": "completed"
    },
    "tags": []
   },
   "outputs": [],
   "source": [
    "# select the usd_goal_real column\n",
    "original_goal_data = pd.DataFrame(kickstarters_2017.goal)"
   ]
  },
  {
   "cell_type": "markdown",
   "id": "fa449d99",
   "metadata": {
    "papermill": {
     "duration": 0.005067,
     "end_time": "2022-08-12T14:01:47.220317",
     "exception": false,
     "start_time": "2022-08-12T14:01:47.215250",
     "status": "completed"
    },
    "tags": []
   },
   "source": [
    "Use `original_goal_data` to create a new DataFrame `scaled_goal_data` with values scaled between 0 and 1. You must use the `minmax_scaling()` function."
   ]
  },
  {
   "cell_type": "code",
   "execution_count": 5,
   "id": "2f79b0da",
   "metadata": {
    "execution": {
     "iopub.execute_input": "2022-08-12T14:01:47.233055Z",
     "iopub.status.busy": "2022-08-12T14:01:47.232037Z",
     "iopub.status.idle": "2022-08-12T14:01:47.264373Z",
     "shell.execute_reply": "2022-08-12T14:01:47.263540Z"
    },
    "papermill": {
     "duration": 0.041136,
     "end_time": "2022-08-12T14:01:47.266648",
     "exception": false,
     "start_time": "2022-08-12T14:01:47.225512",
     "status": "completed"
    },
    "tags": []
   },
   "outputs": [
    {
     "data": {
      "application/javascript": [
       "parent.postMessage({\"jupyterEvent\": \"custom.exercise_interaction\", \"data\": {\"outcomeType\": 1, \"valueTowardsCompletion\": 0.3333333333333333, \"interactionType\": 1, \"questionType\": 1, \"questionId\": \"1_TryScaling\", \"learnToolsVersion\": \"0.3.4\", \"failureMessage\": \"\", \"exceptionClass\": \"\", \"trace\": \"\"}}, \"*\")"
      ],
      "text/plain": [
       "<IPython.core.display.Javascript object>"
      ]
     },
     "metadata": {},
     "output_type": "display_data"
    },
    {
     "data": {
      "text/markdown": [
       "<span style=\"color:#33cc33\">Correct</span>"
      ],
      "text/plain": [
       "Correct"
      ]
     },
     "metadata": {},
     "output_type": "display_data"
    }
   ],
   "source": [
    "# TODO: Your code here\n",
    "scaled_goal_data = minmax_scaling(original_goal_data , columns =[\"goal\"])\n",
    "\n",
    "# Check your answer\n",
    "q1.check()"
   ]
  },
  {
   "cell_type": "code",
   "execution_count": 6,
   "id": "a98d16b2",
   "metadata": {
    "execution": {
     "iopub.execute_input": "2022-08-12T14:01:47.279528Z",
     "iopub.status.busy": "2022-08-12T14:01:47.279081Z",
     "iopub.status.idle": "2022-08-12T14:01:47.283858Z",
     "shell.execute_reply": "2022-08-12T14:01:47.282764Z"
    },
    "papermill": {
     "duration": 0.013905,
     "end_time": "2022-08-12T14:01:47.286281",
     "exception": false,
     "start_time": "2022-08-12T14:01:47.272376",
     "status": "completed"
    },
    "tags": []
   },
   "outputs": [],
   "source": [
    "# Lines below will give you a hint or solution code\n",
    "#q1.hint()\n",
    "#q1.solution()"
   ]
  },
  {
   "cell_type": "markdown",
   "id": "34412988",
   "metadata": {
    "papermill": {
     "duration": 0.005279,
     "end_time": "2022-08-12T14:01:47.297287",
     "exception": false,
     "start_time": "2022-08-12T14:01:47.292008",
     "status": "completed"
    },
    "tags": []
   },
   "source": [
    "# 2) Practice normalization\n",
    "\n",
    "Now you'll practice normalization. We begin by normalizing the amount of money pledged to each campaign."
   ]
  },
  {
   "cell_type": "code",
   "execution_count": 7,
   "id": "1c7fe3e7",
   "metadata": {
    "execution": {
     "iopub.execute_input": "2022-08-12T14:01:47.310319Z",
     "iopub.status.busy": "2022-08-12T14:01:47.309866Z",
     "iopub.status.idle": "2022-08-12T14:01:47.543917Z",
     "shell.execute_reply": "2022-08-12T14:01:47.541874Z"
    },
    "papermill": {
     "duration": 0.243313,
     "end_time": "2022-08-12T14:01:47.546202",
     "exception": false,
     "start_time": "2022-08-12T14:01:47.302889",
     "status": "completed"
    },
    "tags": []
   },
   "outputs": [
    {
     "name": "stdout",
     "output_type": "stream",
     "text": [
      "Original data\n",
      "Preview:\n",
      " 1     2421.0\n",
      "2      220.0\n",
      "3        1.0\n",
      "4     1283.0\n",
      "5    52375.0\n",
      "Name: usd_pledged_real, dtype: float64\n",
      "Minimum value: 0.45 \n",
      "Maximum value: 20338986.27\n",
      "______________________________\n",
      "\n",
      "Normalized data\n",
      "Preview:\n",
      " 1    10.165142\n",
      "2     6.468598\n",
      "3     0.000000\n",
      "4     9.129277\n",
      "5    15.836853\n",
      "Name: usd_pledged_real, dtype: float64\n",
      "Minimum value: -0.7779954122762203 \n",
      "Maximum value: 30.69054020451361\n"
     ]
    }
   ],
   "source": [
    "# get the index of all positive pledges (Box-Cox only takes positive values)\n",
    "index_of_positive_pledges = kickstarters_2017.usd_pledged_real > 0\n",
    "\n",
    "# get only positive pledges (using their indexes)\n",
    "positive_pledges = kickstarters_2017.usd_pledged_real.loc[index_of_positive_pledges]\n",
    "\n",
    "# normalize the pledges (w/ Box-Cox)\n",
    "normalized_pledges = pd.Series(stats.boxcox(positive_pledges)[0], \n",
    "                               name='usd_pledged_real', index=positive_pledges.index)\n",
    "\n",
    "print('Original data\\nPreview:\\n', positive_pledges.head())\n",
    "print('Minimum value:', float(positive_pledges.min()),\n",
    "      '\\nMaximum value:', float(positive_pledges.max()))\n",
    "print('_'*30)\n",
    "\n",
    "print('\\nNormalized data\\nPreview:\\n', normalized_pledges.head())\n",
    "print('Minimum value:', float(normalized_pledges.min()),\n",
    "      '\\nMaximum value:', float(normalized_pledges.max()))"
   ]
  },
  {
   "cell_type": "markdown",
   "id": "f55e183d",
   "metadata": {
    "papermill": {
     "duration": 0.005394,
     "end_time": "2022-08-12T14:01:47.557412",
     "exception": false,
     "start_time": "2022-08-12T14:01:47.552018",
     "status": "completed"
    },
    "tags": []
   },
   "source": [
    "The values have changed significantly with normalization!\n",
    "\n",
    "In the next code cell, you'll take a look at the distribution of the normalized data, where it should now resemble a normal distribution."
   ]
  },
  {
   "cell_type": "code",
   "execution_count": 8,
   "id": "1f45989d",
   "metadata": {
    "execution": {
     "iopub.execute_input": "2022-08-12T14:01:47.571003Z",
     "iopub.status.busy": "2022-08-12T14:01:47.569921Z",
     "iopub.status.idle": "2022-08-12T14:01:49.629836Z",
     "shell.execute_reply": "2022-08-12T14:01:49.628691Z"
    },
    "papermill": {
     "duration": 2.06924,
     "end_time": "2022-08-12T14:01:49.632251",
     "exception": false,
     "start_time": "2022-08-12T14:01:47.563011",
     "status": "completed"
    },
    "tags": []
   },
   "outputs": [
    {
     "data": {
      "image/png": "[encoded data removed]",
      "text/plain": [
       "<Figure size 432x288 with 1 Axes>"
      ]
     },
     "metadata": {
      "needs_background": "light"
     },
     "output_type": "display_data"
    }
   ],
   "source": [
    "# plot normalized data\n",
    "ax = sns.histplot(normalized_pledges, kde=True)\n",
    "ax.set_title(\"Normalized data\")\n",
    "plt.show()"
   ]
  },
  {
   "cell_type": "markdown",
   "id": "bf5ca8f1",
   "metadata": {
    "papermill": {
     "duration": 0.005704,
     "end_time": "2022-08-12T14:01:49.644696",
     "exception": false,
     "start_time": "2022-08-12T14:01:49.638992",
     "status": "completed"
    },
    "tags": []
   },
   "source": [
    "We used the \"usd_pledged_real\" column. Follow the same process to normalize the \"pledged\" column. "
   ]
  },
  {
   "cell_type": "code",
   "execution_count": 9,
   "id": "b861e339",
   "metadata": {
    "execution": {
     "iopub.execute_input": "2022-08-12T14:01:49.658296Z",
     "iopub.status.busy": "2022-08-12T14:01:49.657881Z",
     "iopub.status.idle": "2022-08-12T14:01:51.957066Z",
     "shell.execute_reply": "2022-08-12T14:01:51.956078Z"
    },
    "papermill": {
     "duration": 2.308868,
     "end_time": "2022-08-12T14:01:51.959478",
     "exception": false,
     "start_time": "2022-08-12T14:01:49.650610",
     "status": "completed"
    },
    "tags": []
   },
   "outputs": [
    {
     "data": {
      "image/png": "[encoded data removed]",
      "text/plain": [
       "<Figure size 432x288 with 1 Axes>"
      ]
     },
     "metadata": {
      "needs_background": "light"
     },
     "output_type": "display_data"
    }
   ],
   "source": [
    "# TODO: Your code here!\n",
    "index_of_positive_pledges = kickstarters_2017.pledged > 0\n",
    "\n",
    "positive_pledges = kickstarters_2017.pledged.loc[index_of_positive_pledges]\n",
    "\n",
    "normalized = stats.boxcox(positive_pledges)[0]\n",
    "\n",
    "ax = sns.histplot(normalized, kde=True)\n",
    "ax.set_title(\"Normalized data\")\n",
    "plt.show()"
   ]
  },
  {
   "cell_type": "markdown",
   "id": "391f742f",
   "metadata": {
    "papermill": {
     "duration": 0.006454,
     "end_time": "2022-08-12T14:01:51.972691",
     "exception": false,
     "start_time": "2022-08-12T14:01:51.966237",
     "status": "completed"
    },
    "tags": []
   },
   "source": [
    "How does the normalized \"usd_pledged_real\" column look different from when we normalized the \"pledged\" column?  Or, do they look mostly the same?\n",
    "\n",
    "Once you have an answer, run the code cell below."
   ]
  },
  {
   "cell_type": "code",
   "execution_count": 10,
   "id": "aa5d771c",
   "metadata": {
    "execution": {
     "iopub.execute_input": "2022-08-12T14:01:51.987443Z",
     "iopub.status.busy": "2022-08-12T14:01:51.986449Z",
     "iopub.status.idle": "2022-08-12T14:01:51.993936Z",
     "shell.execute_reply": "2022-08-12T14:01:51.992870Z"
    },
    "papermill": {
     "duration": 0.017373,
     "end_time": "2022-08-12T14:01:51.996330",
     "exception": false,
     "start_time": "2022-08-12T14:01:51.978957",
     "status": "completed"
    },
    "tags": []
   },
   "outputs": [
    {
     "data": {
      "application/javascript": [
       "parent.postMessage({\"jupyterEvent\": \"custom.exercise_interaction\", \"data\": {\"outcomeType\": 1, \"valueTowardsCompletion\": 0.3333333333333333, \"interactionType\": 1, \"questionType\": 4, \"questionId\": \"2_TryNormalization\", \"learnToolsVersion\": \"0.3.4\", \"failureMessage\": \"\", \"exceptionClass\": \"\", \"trace\": \"\"}}, \"*\")"
      ],
      "text/plain": [
       "<IPython.core.display.Javascript object>"
      ]
     },
     "metadata": {},
     "output_type": "display_data"
    },
    {
     "data": {
      "text/markdown": [
       "<span style=\"color:#33cc33\">Correct:</span> \n",
       "\n",
       "The distributions in the normalized data look mostly the same."
      ],
      "text/plain": [
       "Correct: \n",
       "\n",
       "The distributions in the normalized data look mostly the same."
      ]
     },
     "metadata": {},
     "output_type": "display_data"
    }
   ],
   "source": [
    "# Check your answer (Run this code cell to receive credit!)\n",
    "q2.check()"
   ]
  },
  {
   "cell_type": "code",
   "execution_count": 11,
   "id": "c492cd07",
   "metadata": {
    "execution": {
     "iopub.execute_input": "2022-08-12T14:01:52.011462Z",
     "iopub.status.busy": "2022-08-12T14:01:52.011010Z",
     "iopub.status.idle": "2022-08-12T14:01:52.015669Z",
     "shell.execute_reply": "2022-08-12T14:01:52.014543Z"
    },
    "papermill": {
     "duration": 0.015111,
     "end_time": "2022-08-12T14:01:52.018167",
     "exception": false,
     "start_time": "2022-08-12T14:01:52.003056",
     "status": "completed"
    },
    "tags": []
   },
   "outputs": [],
   "source": [
    "# Line below will give you a hint\n",
    "#q2.hint()"
   ]
  },
  {
   "cell_type": "markdown",
   "id": "75a2cb28",
   "metadata": {
    "papermill": {
     "duration": 0.006375,
     "end_time": "2022-08-12T14:01:52.031429",
     "exception": false,
     "start_time": "2022-08-12T14:01:52.025054",
     "status": "completed"
    },
    "tags": []
   },
   "source": [
    "# (Optional) More practice\n",
    "\n",
    "Try finding a new dataset and pretend you're preparing to perform a [regression analysis](https://www.kaggle.com/rtatman/the-5-day-regression-challenge). \n",
    "\n",
    "[These datasets are a good start!](https://www.kaggle.com/rtatman/datasets-for-regression-analysis)\n",
    "\n",
    "Pick three or four variables and decide if you need to normalize or scale any of them and, if you think you should, practice applying the correct technique.\n",
    "\n",
    "# Keep going\n",
    "\n",
    "In the next lesson, learn how to [**parse dates**](https://www.kaggle.com/alexisbcook/parsing-dates) in a dataset."
   ]
  },
  {
   "cell_type": "markdown",
   "id": "55609c64",
   "metadata": {
    "papermill": {
     "duration": 0.00617,
     "end_time": "2022-08-12T14:01:52.044141",
     "exception": false,
     "start_time": "2022-08-12T14:01:52.037971",
     "status": "completed"
    },
    "tags": []
   },
   "source": [
    "---\n",
    "\n",
    "\n",
    "\n",
    "\n",
    "*Have questions or comments? Visit the [course discussion forum](https://www.kaggle.com/learn/data-cleaning/discussion) to chat with other learners.*"
   ]
  }
 ],
 "metadata": {
  "kernelspec": {
   "display_name": "Python 3",
   "language": "python",
   "name": "python3"
  },
  "language_info": {
   "codemirror_mode": {
    "name": "ipython",
    "version": 3
   },
   "file_extension": ".py",
   "mimetype": "text/x-python",
   "name": "python",
   "nbconvert_exporter": "python",
   "pygments_lexer": "ipython3",
   "version": "3.7.12"
  },
  "papermill": {
   "default_parameters": {},
   "duration": 20.248397,
   "end_time": "2022-08-12T14:01:52.872449",
   "environment_variables": {},
   "exception": null,
   "input_path": "__notebook__.ipynb",
   "output_path": "__notebook__.ipynb",
   "parameters": {},
   "start_time": "2022-08-12T14:01:32.624052",
   "version": "2.3.4"
  }
 },
 "nbformat": 4,
 "nbformat_minor": 5
}
