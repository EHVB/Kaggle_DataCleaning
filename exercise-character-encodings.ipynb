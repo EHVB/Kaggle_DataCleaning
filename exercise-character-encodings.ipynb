{
 "cells": [
  {
   "cell_type": "markdown",
   "id": "0bd25c55",
   "metadata": {
    "papermill": {
     "duration": 0.007157,
     "end_time": "2022-08-12T14:02:23.326292",
     "exception": false,
     "start_time": "2022-08-12T14:02:23.319135",
     "status": "completed"
    },
    "tags": []
   },
   "source": [
    "**This notebook is an exercise in the [Data Cleaning](https://www.kaggle.com/learn/data-cleaning) course.  You can reference the tutorial at [this link](https://www.kaggle.com/alexisbcook/character-encodings).**\n",
    "\n",
    "---\n"
   ]
  },
  {
   "cell_type": "markdown",
   "id": "b653257d",
   "metadata": {
    "papermill": {
     "duration": 0.004557,
     "end_time": "2022-08-12T14:02:23.335983",
     "exception": false,
     "start_time": "2022-08-12T14:02:23.331426",
     "status": "completed"
    },
    "tags": []
   },
   "source": [
    "In this exercise, you'll apply what you learned in the **Character encodings** tutorial.\n",
    "\n",
    "# Setup\n",
    "\n",
    "The questions below will give you feedback on your work. Run the following cell to set up the feedback system."
   ]
  },
  {
   "cell_type": "code",
   "execution_count": 1,
   "id": "b02e2ed3",
   "metadata": {
    "execution": {
     "iopub.execute_input": "2022-08-12T14:02:23.346934Z",
     "iopub.status.busy": "2022-08-12T14:02:23.346305Z",
     "iopub.status.idle": "2022-08-12T14:02:23.440078Z",
     "shell.execute_reply": "2022-08-12T14:02:23.438897Z"
    },
    "papermill": {
     "duration": 0.102598,
     "end_time": "2022-08-12T14:02:23.443029",
     "exception": false,
     "start_time": "2022-08-12T14:02:23.340431",
     "status": "completed"
    },
    "tags": []
   },
   "outputs": [
    {
     "name": "stdout",
     "output_type": "stream",
     "text": [
      "Setup Complete\n"
     ]
    }
   ],
   "source": [
    "from learntools.core import binder\n",
    "binder.bind(globals())\n",
    "from learntools.data_cleaning.ex4 import *\n",
    "print(\"Setup Complete\")"
   ]
  },
  {
   "cell_type": "markdown",
   "id": "4158dfa3",
   "metadata": {
    "papermill": {
     "duration": 0.004761,
     "end_time": "2022-08-12T14:02:23.452595",
     "exception": false,
     "start_time": "2022-08-12T14:02:23.447834",
     "status": "completed"
    },
    "tags": []
   },
   "source": [
    "# Get our environment set up\n",
    "\n",
    "The first thing we'll need to do is load in the libraries we'll be using."
   ]
  },
  {
   "cell_type": "code",
   "execution_count": 2,
   "id": "7767f757",
   "metadata": {
    "execution": {
     "iopub.execute_input": "2022-08-12T14:02:23.463758Z",
     "iopub.status.busy": "2022-08-12T14:02:23.463096Z",
     "iopub.status.idle": "2022-08-12T14:02:23.468588Z",
     "shell.execute_reply": "2022-08-12T14:02:23.467535Z"
    },
    "papermill": {
     "duration": 0.013805,
     "end_time": "2022-08-12T14:02:23.470903",
     "exception": false,
     "start_time": "2022-08-12T14:02:23.457098",
     "status": "completed"
    },
    "tags": []
   },
   "outputs": [],
   "source": [
    "# modules we'll use\n",
    "import pandas as pd\n",
    "import numpy as np\n",
    "\n",
    "# helpful character encoding module\n",
    "import chardet\n",
    "\n",
    "# set seed for reproducibility\n",
    "np.random.seed(0)"
   ]
  },
  {
   "cell_type": "markdown",
   "id": "d54cfaeb",
   "metadata": {
    "papermill": {
     "duration": 0.004292,
     "end_time": "2022-08-12T14:02:23.479798",
     "exception": false,
     "start_time": "2022-08-12T14:02:23.475506",
     "status": "completed"
    },
    "tags": []
   },
   "source": [
    "# 1) What are encodings?\n",
    "\n",
    "You're working with a dataset composed of bytes.  Run the code cell below to print a sample entry."
   ]
  },
  {
   "cell_type": "code",
   "execution_count": 3,
   "id": "0fac2229",
   "metadata": {
    "execution": {
     "iopub.execute_input": "2022-08-12T14:02:23.491391Z",
     "iopub.status.busy": "2022-08-12T14:02:23.490195Z",
     "iopub.status.idle": "2022-08-12T14:02:23.497197Z",
     "shell.execute_reply": "2022-08-12T14:02:23.495917Z"
    },
    "papermill": {
     "duration": 0.014861,
     "end_time": "2022-08-12T14:02:23.499222",
     "exception": false,
     "start_time": "2022-08-12T14:02:23.484361",
     "status": "completed"
    },
    "tags": []
   },
   "outputs": [
    {
     "name": "stdout",
     "output_type": "stream",
     "text": [
      "b'\\xa7A\\xa6n'\n",
      "data type: <class 'bytes'>\n"
     ]
    }
   ],
   "source": [
    "sample_entry = b'\\xa7A\\xa6n'\n",
    "print(sample_entry)\n",
    "print('data type:', type(sample_entry))"
   ]
  },
  {
   "cell_type": "markdown",
   "id": "cb2e1510",
   "metadata": {
    "papermill": {
     "duration": 0.004376,
     "end_time": "2022-08-12T14:02:23.508530",
     "exception": false,
     "start_time": "2022-08-12T14:02:23.504154",
     "status": "completed"
    },
    "tags": []
   },
   "source": [
    "You notice that it doesn't use the standard UTF-8 encoding. \n",
    "\n",
    "Use the next code cell to create a variable `new_entry` that changes the encoding from `\"big5-tw\"` to `\"utf-8\"`.  `new_entry` should have the bytes datatype."
   ]
  },
  {
   "cell_type": "code",
   "execution_count": 4,
   "id": "9e8ba620",
   "metadata": {
    "execution": {
     "iopub.execute_input": "2022-08-12T14:02:23.519998Z",
     "iopub.status.busy": "2022-08-12T14:02:23.519245Z",
     "iopub.status.idle": "2022-08-12T14:02:23.529797Z",
     "shell.execute_reply": "2022-08-12T14:02:23.528692Z"
    },
    "papermill": {
     "duration": 0.01895,
     "end_time": "2022-08-12T14:02:23.532099",
     "exception": false,
     "start_time": "2022-08-12T14:02:23.513149",
     "status": "completed"
    },
    "tags": []
   },
   "outputs": [
    {
     "data": {
      "application/javascript": [
       "parent.postMessage({\"jupyterEvent\": \"custom.exercise_interaction\", \"data\": {\"outcomeType\": 1, \"valueTowardsCompletion\": 0.3333333333333333, \"interactionType\": 1, \"questionType\": 1, \"questionId\": \"1_EncodingsIntro\", \"learnToolsVersion\": \"0.3.4\", \"failureMessage\": \"\", \"exceptionClass\": \"\", \"trace\": \"\"}}, \"*\")"
      ],
      "text/plain": [
       "<IPython.core.display.Javascript object>"
      ]
     },
     "metadata": {},
     "output_type": "display_data"
    },
    {
     "data": {
      "text/markdown": [
       "<span style=\"color:#33cc33\">Correct</span>"
      ],
      "text/plain": [
       "Correct"
      ]
     },
     "metadata": {},
     "output_type": "display_data"
    }
   ],
   "source": [
    "sample_entry = sample_entry.decode(\"big5-tw\")\n",
    "\n",
    "new_entry = sample_entry.encode(\"utf-8\")\n",
    "\n",
    "# Check your answer\n",
    "q1.check()"
   ]
  },
  {
   "cell_type": "code",
   "execution_count": 5,
   "id": "96d8d206",
   "metadata": {
    "execution": {
     "iopub.execute_input": "2022-08-12T14:02:23.544256Z",
     "iopub.status.busy": "2022-08-12T14:02:23.543542Z",
     "iopub.status.idle": "2022-08-12T14:02:23.550780Z",
     "shell.execute_reply": "2022-08-12T14:02:23.549932Z"
    },
    "papermill": {
     "duration": 0.01565,
     "end_time": "2022-08-12T14:02:23.552906",
     "exception": false,
     "start_time": "2022-08-12T14:02:23.537256",
     "status": "completed"
    },
    "tags": []
   },
   "outputs": [
    {
     "data": {
      "application/javascript": [
       "parent.postMessage({\"jupyterEvent\": \"custom.exercise_interaction\", \"data\": {\"interactionType\": 3, \"questionType\": 1, \"questionId\": \"1_EncodingsIntro\", \"learnToolsVersion\": \"0.3.4\", \"valueTowardsCompletion\": 0.0, \"failureMessage\": \"\", \"exceptionClass\": \"\", \"trace\": \"\", \"outcomeType\": 4}}, \"*\")"
      ],
      "text/plain": [
       "<IPython.core.display.Javascript object>"
      ]
     },
     "metadata": {},
     "output_type": "display_data"
    },
    {
     "data": {
      "text/markdown": [
       "<span style=\"color:#33cc99\">Solution:</span> \n",
       "```python\n",
       "before = sample_entry.decode(\"big5-tw\")\n",
       "new_entry = before.encode()\n",
       "\n",
       "```"
      ],
      "text/plain": [
       "Solution: \n",
       "```python\n",
       "before = sample_entry.decode(\"big5-tw\")\n",
       "new_entry = before.encode()\n",
       "\n",
       "```"
      ]
     },
     "metadata": {},
     "output_type": "display_data"
    }
   ],
   "source": [
    "# Lines below will give you a hint or solution code\n",
    "#q1.hint()\n",
    "q1.solution()"
   ]
  },
  {
   "cell_type": "markdown",
   "id": "4e23c780",
   "metadata": {
    "papermill": {
     "duration": 0.004891,
     "end_time": "2022-08-12T14:02:23.563415",
     "exception": false,
     "start_time": "2022-08-12T14:02:23.558524",
     "status": "completed"
    },
    "tags": []
   },
   "source": [
    "# 2) Reading in files with encoding problems\n",
    "\n",
    "Use the code cell below to read in this file at path `\"../input/fatal-police-shootings-in-the-us/PoliceKillingsUS.csv\"`.  \n",
    "\n",
    "Figure out what the correct encoding should be and read in the file to a DataFrame `police_killings`."
   ]
  },
  {
   "cell_type": "code",
   "execution_count": 6,
   "id": "b7cf7c44",
   "metadata": {
    "execution": {
     "iopub.execute_input": "2022-08-12T14:02:23.575825Z",
     "iopub.status.busy": "2022-08-12T14:02:23.574789Z",
     "iopub.status.idle": "2022-08-12T14:02:25.184290Z",
     "shell.execute_reply": "2022-08-12T14:02:25.183113Z"
    },
    "papermill": {
     "duration": 1.617957,
     "end_time": "2022-08-12T14:02:25.186490",
     "exception": false,
     "start_time": "2022-08-12T14:02:23.568533",
     "status": "completed"
    },
    "tags": []
   },
   "outputs": [
    {
     "name": "stdout",
     "output_type": "stream",
     "text": [
      "{'encoding': 'Windows-1252', 'confidence': 0.73, 'language': ''}\n"
     ]
    },
    {
     "data": {
      "application/javascript": [
       "parent.postMessage({\"jupyterEvent\": \"custom.exercise_interaction\", \"data\": {\"outcomeType\": 1, \"valueTowardsCompletion\": 0.3333333333333333, \"interactionType\": 1, \"questionType\": 1, \"questionId\": \"2_ReadIn\", \"learnToolsVersion\": \"0.3.4\", \"failureMessage\": \"\", \"exceptionClass\": \"\", \"trace\": \"\"}}, \"*\")"
      ],
      "text/plain": [
       "<IPython.core.display.Javascript object>"
      ]
     },
     "metadata": {},
     "output_type": "display_data"
    },
    {
     "data": {
      "text/markdown": [
       "<span style=\"color:#33cc33\">Correct</span>"
      ],
      "text/plain": [
       "Correct"
      ]
     },
     "metadata": {},
     "output_type": "display_data"
    }
   ],
   "source": [
    "# TODO: Load in the DataFrame correctly.\n",
    "with open(\"../input/fatal-police-shootings-in-the-us/PoliceKillingsUS.csv\" , \"rb\") as data:\n",
    "    result = chardet.detect(data.read(100000))\n",
    "\n",
    "print(result)    \n",
    "police_killings = pd.read_csv(\"../input/fatal-police-shootings-in-the-us/PoliceKillingsUS.csv\", encoding='Windows-1252')\n",
    "\n",
    "# Check your answer\n",
    "q2.check()"
   ]
  },
  {
   "cell_type": "markdown",
   "id": "8aa6fd7b",
   "metadata": {
    "papermill": {
     "duration": 0.005139,
     "end_time": "2022-08-12T14:02:25.197408",
     "exception": false,
     "start_time": "2022-08-12T14:02:25.192269",
     "status": "completed"
    },
    "tags": []
   },
   "source": [
    "Feel free to use any additional code cells for supplemental work.  To get credit for finishing this question, you'll need to run `q2.check()` and get a result of **Correct**."
   ]
  },
  {
   "cell_type": "code",
   "execution_count": 7,
   "id": "9983580b",
   "metadata": {
    "execution": {
     "iopub.execute_input": "2022-08-12T14:02:25.209737Z",
     "iopub.status.busy": "2022-08-12T14:02:25.209358Z",
     "iopub.status.idle": "2022-08-12T14:02:25.214159Z",
     "shell.execute_reply": "2022-08-12T14:02:25.213069Z"
    },
    "papermill": {
     "duration": 0.014459,
     "end_time": "2022-08-12T14:02:25.217161",
     "exception": false,
     "start_time": "2022-08-12T14:02:25.202702",
     "status": "completed"
    },
    "tags": []
   },
   "outputs": [],
   "source": [
    "# (Optional) Use this code cell for any additional work."
   ]
  },
  {
   "cell_type": "code",
   "execution_count": 8,
   "id": "02f2013a",
   "metadata": {
    "execution": {
     "iopub.execute_input": "2022-08-12T14:02:25.230892Z",
     "iopub.status.busy": "2022-08-12T14:02:25.230232Z",
     "iopub.status.idle": "2022-08-12T14:02:25.242594Z",
     "shell.execute_reply": "2022-08-12T14:02:25.241641Z"
    },
    "papermill": {
     "duration": 0.021541,
     "end_time": "2022-08-12T14:02:25.244663",
     "exception": false,
     "start_time": "2022-08-12T14:02:25.223122",
     "status": "completed"
    },
    "tags": []
   },
   "outputs": [
    {
     "data": {
      "application/javascript": [
       "parent.postMessage({\"jupyterEvent\": \"custom.exercise_interaction\", \"data\": {\"interactionType\": 2, \"questionType\": 1, \"questionId\": \"2_ReadIn\", \"learnToolsVersion\": \"0.3.4\", \"valueTowardsCompletion\": 0.0, \"failureMessage\": \"\", \"exceptionClass\": \"\", \"trace\": \"\", \"outcomeType\": 4}}, \"*\")"
      ],
      "text/plain": [
       "<IPython.core.display.Javascript object>"
      ]
     },
     "metadata": {},
     "output_type": "display_data"
    },
    {
     "data": {
      "text/markdown": [
       "<span style=\"color:#3366cc\">Hint:</span> If you try to guess the encoding with the first 10,000 bytes of the file, it might give you the wrong answer.  Try using 100,000 or more lines of the file."
      ],
      "text/plain": [
       "Hint: If you try to guess the encoding with the first 10,000 bytes of the file, it might give you the wrong answer.  Try using 100,000 or more lines of the file."
      ]
     },
     "metadata": {},
     "output_type": "display_data"
    },
    {
     "data": {
      "application/javascript": [
       "parent.postMessage({\"jupyterEvent\": \"custom.exercise_interaction\", \"data\": {\"interactionType\": 3, \"questionType\": 1, \"questionId\": \"2_ReadIn\", \"learnToolsVersion\": \"0.3.4\", \"valueTowardsCompletion\": 0.0, \"failureMessage\": \"\", \"exceptionClass\": \"\", \"trace\": \"\", \"outcomeType\": 4}}, \"*\")"
      ],
      "text/plain": [
       "<IPython.core.display.Javascript object>"
      ]
     },
     "metadata": {},
     "output_type": "display_data"
    },
    {
     "data": {
      "text/markdown": [
       "<span style=\"color:#33cc99\">Solution:</span> \n",
       "```python\n",
       "police_killings = pd.read_csv(\"../input/fatal-police-shootings-in-the-us/PoliceKillingsUS.csv\", encoding='Windows-1252')\n",
       "\n",
       "```"
      ],
      "text/plain": [
       "Solution: \n",
       "```python\n",
       "police_killings = pd.read_csv(\"../input/fatal-police-shootings-in-the-us/PoliceKillingsUS.csv\", encoding='Windows-1252')\n",
       "\n",
       "```"
      ]
     },
     "metadata": {},
     "output_type": "display_data"
    }
   ],
   "source": [
    "# Lines below will give you a hint or solution code\n",
    "q2.hint()\n",
    "q2.solution()"
   ]
  },
  {
   "cell_type": "markdown",
   "id": "5617715b",
   "metadata": {
    "papermill": {
     "duration": 0.005718,
     "end_time": "2022-08-12T14:02:25.256348",
     "exception": false,
     "start_time": "2022-08-12T14:02:25.250630",
     "status": "completed"
    },
    "tags": []
   },
   "source": [
    "# 3) Saving your files with UTF-8 encoding\n",
    "\n",
    "Save a version of the police killings dataset to CSV with UTF-8 encoding.  Your answer will be marked correct after saving this file.  \n",
    "\n",
    "Note: When using the `to_csv()` method, supply only the name of the file (e.g., `\"my_file.csv\"`).  This saves the file at the filepath `\"/kaggle/working/my_file.csv\"`."
   ]
  },
  {
   "cell_type": "code",
   "execution_count": 9,
   "id": "a0d3e1c0",
   "metadata": {
    "execution": {
     "iopub.execute_input": "2022-08-12T14:02:25.269690Z",
     "iopub.status.busy": "2022-08-12T14:02:25.269292Z",
     "iopub.status.idle": "2022-08-12T14:02:25.301681Z",
     "shell.execute_reply": "2022-08-12T14:02:25.300768Z"
    },
    "papermill": {
     "duration": 0.041847,
     "end_time": "2022-08-12T14:02:25.303995",
     "exception": false,
     "start_time": "2022-08-12T14:02:25.262148",
     "status": "completed"
    },
    "tags": []
   },
   "outputs": [
    {
     "data": {
      "application/javascript": [
       "parent.postMessage({\"jupyterEvent\": \"custom.exercise_interaction\", \"data\": {\"outcomeType\": 1, \"valueTowardsCompletion\": 0.3333333333333333, \"interactionType\": 1, \"questionType\": 2, \"questionId\": \"3_SaveCSV\", \"learnToolsVersion\": \"0.3.4\", \"failureMessage\": \"\", \"exceptionClass\": \"\", \"trace\": \"\"}}, \"*\")"
      ],
      "text/plain": [
       "<IPython.core.display.Javascript object>"
      ]
     },
     "metadata": {},
     "output_type": "display_data"
    },
    {
     "data": {
      "text/markdown": [
       "<span style=\"color:#33cc33\">Correct</span>"
      ],
      "text/plain": [
       "Correct"
      ]
     },
     "metadata": {},
     "output_type": "display_data"
    }
   ],
   "source": [
    "# TODO: Save the police killings dataset to CSV\n",
    "police_killings.to_csv(\"my_file.csv\")\n",
    "\n",
    "# Check your answer\n",
    "q3.check()"
   ]
  },
  {
   "cell_type": "code",
   "execution_count": 10,
   "id": "5e6bb2e8",
   "metadata": {
    "execution": {
     "iopub.execute_input": "2022-08-12T14:02:25.319078Z",
     "iopub.status.busy": "2022-08-12T14:02:25.318301Z",
     "iopub.status.idle": "2022-08-12T14:02:25.322738Z",
     "shell.execute_reply": "2022-08-12T14:02:25.321977Z"
    },
    "papermill": {
     "duration": 0.013969,
     "end_time": "2022-08-12T14:02:25.324910",
     "exception": false,
     "start_time": "2022-08-12T14:02:25.310941",
     "status": "completed"
    },
    "tags": []
   },
   "outputs": [],
   "source": [
    "# Lines below will give you a hint or solution code\n",
    "#q3.hint()\n",
    "#q3.solution()"
   ]
  },
  {
   "cell_type": "markdown",
   "id": "a4cc689b",
   "metadata": {
    "papermill": {
     "duration": 0.005788,
     "end_time": "2022-08-12T14:02:25.336889",
     "exception": false,
     "start_time": "2022-08-12T14:02:25.331101",
     "status": "completed"
    },
    "tags": []
   },
   "source": [
    "# (Optional) More practice\n",
    "\n",
    "Check out [this dataset of files in different character encodings](https://www.kaggle.com/rtatman/character-encoding-examples). Can you read in all the files with their original encodings and them save them out as UTF-8 files?\n",
    "\n",
    "If you have a file that's in UTF-8 but has just a couple of weird-looking characters in it, you can try out the [ftfy module](https://ftfy.readthedocs.io/en/latest/#) and see if it helps. \n",
    "\n",
    "# Keep going\n",
    "\n",
    "In the final lesson, learn how to [**clean up inconsistent text entries**](https://www.kaggle.com/alexisbcook/inconsistent-data-entry) in your dataset."
   ]
  },
  {
   "cell_type": "markdown",
   "id": "90218ea1",
   "metadata": {
    "papermill": {
     "duration": 0.005861,
     "end_time": "2022-08-12T14:02:25.348800",
     "exception": false,
     "start_time": "2022-08-12T14:02:25.342939",
     "status": "completed"
    },
    "tags": []
   },
   "source": [
    "---\n",
    "\n",
    "\n",
    "\n",
    "\n",
    "*Have questions or comments? Visit the [course discussion forum](https://www.kaggle.com/learn/data-cleaning/discussion) to chat with other learners.*"
   ]
  }
 ],
 "metadata": {
  "kernelspec": {
   "display_name": "Python 3",
   "language": "python",
   "name": "python3"
  },
  "language_info": {
   "codemirror_mode": {
    "name": "ipython",
    "version": 3
   },
   "file_extension": ".py",
   "mimetype": "text/x-python",
   "name": "python",
   "nbconvert_exporter": "python",
   "pygments_lexer": "ipython3",
   "version": "3.7.12"
  },
  "papermill": {
   "default_parameters": {},
   "duration": 11.617787,
   "end_time": "2022-08-12T14:02:25.978609",
   "environment_variables": {},
   "exception": null,
   "input_path": "__notebook__.ipynb",
   "output_path": "__notebook__.ipynb",
   "parameters": {},
   "start_time": "2022-08-12T14:02:14.360822",
   "version": "2.3.4"
  }
 },
 "nbformat": 4,
 "nbformat_minor": 5
}
